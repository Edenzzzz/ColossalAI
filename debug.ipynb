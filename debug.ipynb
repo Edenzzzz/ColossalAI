{
 "cells": [
  {
   "cell_type": "code",
   "execution_count": 3,
   "metadata": {},
   "outputs": [],
   "source": [
    "import torch\n",
    "low_rank_grad = torch.load(\"low_rank_grad.pt\")\n",
    "unproj = torch.load(\"galore_unproj.pt\")\n",
    "ortho_mat = torch.load(\"ortho_matrix.pt\")\n",
    "low_rank_update = torch.load(\"low_rank_update.pt\")\n",
    "\n",
    "dist_low_rank_grad = torch.load(\"dist_low_rank_grad.pt\")\n",
    "dist_unproj = torch.load(\"dist_galore_unproj.pt\")\n",
    "dist_ortho_mat = torch.load(\"dist_galore_ortho.pt\")\n",
    "dist_low_rank_update = torch.load(\"dist_low_rank_update.pt\")"
   ]
  },
  {
   "cell_type": "code",
   "execution_count": 15,
   "metadata": {},
   "outputs": [
    {
     "data": {
      "text/plain": [
       "(tensor([-8.5231e+00,  7.1526e-07,  4.7684e-07,  0.0000e+00,  2.3842e-07,\n",
       "          5.9605e-08, -8.9407e-07, -2.9802e-07], device='cuda:0'),\n",
       " tensor([ 8.5231e+00,  5.9605e-08, -2.3842e-07, -5.3644e-07,  4.7684e-07,\n",
       "          5.9605e-08,  1.7881e-07,  5.9605e-07], device='cuda:0'))"
      ]
     },
     "execution_count": 15,
     "metadata": {},
     "output_type": "execute_result"
    }
   ],
   "source": [
    "low_rank_grad[:32][0], dist_low_rank_grad[0]"
   ]
  },
  {
   "cell_type": "code",
   "execution_count": 36,
   "metadata": {},
   "outputs": [
    {
     "name": "stdout",
     "output_type": "stream",
     "text": [
      "mean error: 1.32749278236588e-09\n"
     ]
    },
    {
     "data": {
      "text/plain": [
       "tensor([[False, False, False,  ..., False, False, False],\n",
       "        [False, False, False,  ..., False, False, False],\n",
       "        [False, False, False,  ..., False, False, False],\n",
       "        ...,\n",
       "        [False, False, False,  ..., False, False, False],\n",
       "        [False, False, False,  ..., False, False, False],\n",
       "        [False, False, False,  ..., False, False, False]], device='cuda:0')"
      ]
     },
     "execution_count": 36,
     "metadata": {},
     "output_type": "execute_result"
    }
   ],
   "source": [
    "grad = torch.load(\"grad.pt\").cuda()\n",
    "dist_grad = torch.load(\"dist_grad.pt\").cuda()\n",
    "print(f\"mean error: {(grad[:32] - dist_grad).mean()}\")\n",
    "U, *_ = torch.linalg.svd(grad[:32])\n",
    "_U, *_ = torch.linalg.svd(dist_grad)\n",
    "U == _U\n"
   ]
  },
  {
   "cell_type": "code",
   "execution_count": 17,
   "metadata": {},
   "outputs": [
    {
     "data": {
      "text/plain": [
       "torch.Size([32])"
      ]
     },
     "execution_count": 17,
     "metadata": {},
     "output_type": "execute_result"
    }
   ],
   "source": [
    "dist_low_rank_grad.shape"
   ]
  },
  {
   "cell_type": "code",
   "execution_count": 92,
   "metadata": {},
   "outputs": [
    {
     "data": {
      "text/plain": [
       "tensor(True, device='cuda:0')"
      ]
     },
     "execution_count": 92,
     "metadata": {},
     "output_type": "execute_result"
    }
   ],
   "source": [
    "(ortho_mat @ low_rank_grad   ==  dist_ortho_mat @ dist_low_rank_grad ).all()"
   ]
  },
  {
   "cell_type": "code",
   "execution_count": null,
   "metadata": {},
   "outputs": [
    {
     "name": "stdout",
     "output_type": "stream",
     "text": [
      "torch.Size([8, 32]) torch.Size([8, 32])\n"
     ]
    }
   ],
   "source": [
    "import torch\n",
    "import bitsandbytes.functional as F\n",
    "low_rank_grad = torch.load(\"low_rank_grad.pt\")\n",
    "dist_low_rank_grad = torch.load(\"dist_low_rank_grad.pt\")\n",
    "def update(low_rank_grad):\n",
    "    p = torch.zeros_like(low_rank_grad, dtype=torch.float32, device=\"cuda\")\n",
    "    p.grad = low_rank_grad\n",
    "    lr = 1e-2\n",
    "    state = {}\n",
    "    state[\"state1\"] = torch.zeros_like(low_rank_grad, dtype=torch.float32, device=\"cuda\")\n",
    "    state[\"state2\"] = torch.zeros_like(low_rank_grad, dtype=torch.float32, device=\"cuda\")\n",
    "    beta1 = 0.9\n",
    "    beta2 = 0.999\n",
    "    step = 1\n",
    "    args = None\n",
    "    eps = 1e-8\n",
    "    weight_decay = 1e-2\n",
    "\n",
    "\n",
    "    F.optimizer_update_32bit(\n",
    "        \"adam\",\n",
    "        p.grad,\n",
    "        p,\n",
    "        state[\"state1\"],\n",
    "        beta1,\n",
    "        eps,\n",
    "        step,\n",
    "        lr,\n",
    "        state[\"state2\"],\n",
    "        beta2,\n",
    "        weight_decay\n",
    "    )\n",
    "    return p\n",
    "print(low_rank_grad.shape, dist_low_rank_grad.shape)\n",
    "assert (low_rank_grad[:, :32] == dist_low_rank_grad).all()\n",
    "# adam update step\n",
    "low_rank_grad = update(low_rank_grad)\n",
    "dist_low_rank_grad = update(dist_low_rank_grad)\n",
    "low_rank_grad[:, :32] == dist_low_rank_grad"
   ]
  },
  {
   "cell_type": "code",
   "execution_count": 93,
   "metadata": {},
   "outputs": [
    {
     "data": {
      "text/plain": [
       "tensor([[ True,  True,  True,  True,  True,  True,  True,  True,  True,  True,\n",
       "          True,  True,  True,  True,  True,  True,  True,  True,  True,  True,\n",
       "          True,  True,  True,  True,  True,  True,  True,  True,  True,  True,\n",
       "          True,  True],\n",
       "        [False, False, False, False, False, False, False, False, False, False,\n",
       "         False, False, False, False, False, False,  True,  True, False, False,\n",
       "         False, False, False, False, False, False, False, False, False, False,\n",
       "          True, False],\n",
       "        [False, False, False, False, False, False, False, False, False, False,\n",
       "         False, False, False, False, False,  True, False, False, False, False,\n",
       "         False, False, False, False, False, False, False, False, False, False,\n",
       "         False,  True],\n",
       "        [False, False, False, False, False, False, False, False, False,  True,\n",
       "         False, False, False, False, False, False,  True, False, False, False,\n",
       "         False, False, False, False, False, False, False, False,  True, False,\n",
       "         False, False],\n",
       "        [False, False, False, False, False,  True, False, False, False, False,\n",
       "         False, False, False, False, False, False, False, False, False,  True,\n",
       "         False,  True,  True, False, False, False, False, False, False, False,\n",
       "         False, False],\n",
       "        [False, False, False, False, False, False, False, False, False, False,\n",
       "         False, False, False, False, False, False, False, False, False,  True,\n",
       "         False, False, False, False, False, False, False, False, False, False,\n",
       "         False, False],\n",
       "        [False, False, False,  True, False, False, False, False, False,  True,\n",
       "         False, False, False,  True, False, False, False,  True, False, False,\n",
       "          True, False, False, False, False, False, False, False, False, False,\n",
       "         False, False],\n",
       "        [False, False, False, False, False,  True, False, False, False, False,\n",
       "         False, False, False, False, False, False, False, False,  True, False,\n",
       "         False, False, False, False, False, False, False, False, False, False,\n",
       "         False, False]], device='cuda:0')"
      ]
     },
     "execution_count": 93,
     "metadata": {},
     "output_type": "execute_result"
    }
   ],
   "source": [
    "low_rank_update == dist_low_rank_update"
   ]
  },
  {
   "cell_type": "code",
   "execution_count": 36,
   "metadata": {},
   "outputs": [
    {
     "data": {
      "text/plain": [
       "tensor([[-0.7474, -1.2540, -0.2261,  ..., -0.6056,  0.0814,  0.4249],\n",
       "        [ 0.8328,  0.9763,  0.1816,  ...,  1.6249, -0.5379,  0.8654],\n",
       "        [ 0.5236, -0.4164,  0.1525,  ..., -0.7056,  0.5073, -0.8464],\n",
       "        ...,\n",
       "        [-0.1320, -0.4498,  0.1109,  ..., -0.7294, -0.4453, -0.5510],\n",
       "        [-0.4251,  0.1342, -0.1071,  ..., -0.1551,  0.0112,  0.4830],\n",
       "        [ 0.0945,  0.8062, -0.0879,  ...,  0.7416, -0.0420, -0.8317]],\n",
       "       device='cuda:0')"
      ]
     },
     "execution_count": 36,
     "metadata": {},
     "output_type": "execute_result"
    }
   ],
   "source": [
    "ortho_mat @ low_rank_grad"
   ]
  },
  {
   "cell_type": "code",
   "execution_count": 28,
   "metadata": {},
   "outputs": [
    {
     "data": {
      "text/plain": [
       "torch.Size([32, 32])"
      ]
     },
     "execution_count": 28,
     "metadata": {},
     "output_type": "execute_result"
    }
   ],
   "source": [
    "unproj"
   ]
  }
 ],
 "metadata": {
  "kernelspec": {
   "display_name": "colossalai",
   "language": "python",
   "name": "python3"
  },
  "language_info": {
   "codemirror_mode": {
    "name": "ipython",
    "version": 3
   },
   "file_extension": ".py",
   "mimetype": "text/x-python",
   "name": "python",
   "nbconvert_exporter": "python",
   "pygments_lexer": "ipython3",
   "version": "3.10.13"
  }
 },
 "nbformat": 4,
 "nbformat_minor": 2
}
